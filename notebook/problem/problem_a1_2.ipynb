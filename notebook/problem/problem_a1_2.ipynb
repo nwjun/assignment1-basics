{
 "cells": [
  {
   "cell_type": "markdown",
   "id": "3fc2c10c",
   "metadata": {},
   "source": [
    "When occuring in text, it represents nothing."
   ]
  },
  {
   "cell_type": "markdown",
   "id": "718bbcf9",
   "metadata": {},
   "source": [
    "## Problem (unicode2): Unicode Encodings (3 points)"
   ]
  },
  {
   "cell_type": "markdown",
   "id": "edf17238",
   "metadata": {},
   "source": [
    "(a) What are some reasons to prefer training our tokenizer on UTF-8 encoded bytes, rather than\n",
    "UTF-16 or UTF-32? It may be helpful to compare the output of these encodings for various\n",
    "input strings."
   ]
  },
  {
   "cell_type": "markdown",
   "id": "083a4885",
   "metadata": {},
   "source": [
    "**Ans:** UTF-8 is more space-efficient and less sparse than UTF-16 or UTF-32 when encoding strings in English or other Latin-based languages. It represents each character using 1 to 4 bytes, with ASCII characters encoded in just 1 byte. In contrast, UTF-16 and UTF-32 use more bytes per character—typically 2 or 4 bytes respectively—which increases memory usage. However, UTF-16 and UTF-32 can be advantageous when working with languages like Chinese, Japanese, or Korean, or in scenarios where decoding speed and direct character access are more critical than storage efficiency."
   ]
  },
  {
   "cell_type": "markdown",
   "id": "05946421",
   "metadata": {},
   "source": [
    "(b) Consider the following (incorrect) function, which is intended to decode a UTF-8 byte string into\n",
    "a Unicode string. Why is this function incorrect? Provide an example of an input byte string\n",
    "that yields incorrect results."
   ]
  },
  {
   "cell_type": "code",
   "execution_count": 48,
   "id": "c6d64f3f",
   "metadata": {},
   "outputs": [],
   "source": [
    "def decode_utf8_bytes_to_str_wrong(bytestring: bytes):\n",
    "    for b in bytestring:\n",
    "        print([b])\n",
    "    return \"\".join([bytes([b]).decode(\"utf-8\") for b in bytestring])"
   ]
  },
  {
   "cell_type": "code",
   "execution_count": 50,
   "id": "ad6ed22b",
   "metadata": {},
   "outputs": [
    {
     "name": "stdout",
     "output_type": "stream",
     "text": [
      "[227]\n",
      "[129]\n",
      "[147]\n"
     ]
    },
    {
     "ename": "UnicodeDecodeError",
     "evalue": "'utf-8' codec can't decode byte 0xe3 in position 0: unexpected end of data",
     "output_type": "error",
     "traceback": [
      "\u001b[0;31m---------------------------------------------------------------------------\u001b[0m",
      "\u001b[0;31mUnicodeDecodeError\u001b[0m                        Traceback (most recent call last)",
      "Cell \u001b[0;32mIn[50], line 1\u001b[0m\n\u001b[0;32m----> 1\u001b[0m \u001b[43mdecode_utf8_bytes_to_str_wrong\u001b[49m\u001b[43m(\u001b[49m\u001b[38;5;124;43m\"\u001b[39;49m\u001b[38;5;124;43mこ\u001b[39;49m\u001b[38;5;124;43m\"\u001b[39;49m\u001b[38;5;241;43m.\u001b[39;49m\u001b[43mencode\u001b[49m\u001b[43m(\u001b[49m\u001b[38;5;124;43m\"\u001b[39;49m\u001b[38;5;124;43mutf-8\u001b[39;49m\u001b[38;5;124;43m\"\u001b[39;49m\u001b[43m)\u001b[49m\u001b[43m)\u001b[49m\n",
      "Cell \u001b[0;32mIn[48], line 4\u001b[0m, in \u001b[0;36mdecode_utf8_bytes_to_str_wrong\u001b[0;34m(bytestring)\u001b[0m\n\u001b[1;32m      2\u001b[0m \u001b[38;5;28;01mfor\u001b[39;00m b \u001b[38;5;129;01min\u001b[39;00m bytestring:\n\u001b[1;32m      3\u001b[0m     \u001b[38;5;28mprint\u001b[39m([b])\n\u001b[0;32m----> 4\u001b[0m \u001b[38;5;28;01mreturn\u001b[39;00m \u001b[38;5;124m\"\u001b[39m\u001b[38;5;124m\"\u001b[39m\u001b[38;5;241m.\u001b[39mjoin([\u001b[38;5;28mbytes\u001b[39m([b])\u001b[38;5;241m.\u001b[39mdecode(\u001b[38;5;124m\"\u001b[39m\u001b[38;5;124mutf-8\u001b[39m\u001b[38;5;124m\"\u001b[39m) \u001b[38;5;28;01mfor\u001b[39;00m b \u001b[38;5;129;01min\u001b[39;00m bytestring])\n",
      "Cell \u001b[0;32mIn[48], line 4\u001b[0m, in \u001b[0;36m<listcomp>\u001b[0;34m(.0)\u001b[0m\n\u001b[1;32m      2\u001b[0m \u001b[38;5;28;01mfor\u001b[39;00m b \u001b[38;5;129;01min\u001b[39;00m bytestring:\n\u001b[1;32m      3\u001b[0m     \u001b[38;5;28mprint\u001b[39m([b])\n\u001b[0;32m----> 4\u001b[0m \u001b[38;5;28;01mreturn\u001b[39;00m \u001b[38;5;124m\"\u001b[39m\u001b[38;5;124m\"\u001b[39m\u001b[38;5;241m.\u001b[39mjoin([\u001b[38;5;28;43mbytes\u001b[39;49m\u001b[43m(\u001b[49m\u001b[43m[\u001b[49m\u001b[43mb\u001b[49m\u001b[43m]\u001b[49m\u001b[43m)\u001b[49m\u001b[38;5;241;43m.\u001b[39;49m\u001b[43mdecode\u001b[49m\u001b[43m(\u001b[49m\u001b[38;5;124;43m\"\u001b[39;49m\u001b[38;5;124;43mutf-8\u001b[39;49m\u001b[38;5;124;43m\"\u001b[39;49m\u001b[43m)\u001b[49m \u001b[38;5;28;01mfor\u001b[39;00m b \u001b[38;5;129;01min\u001b[39;00m bytestring])\n",
      "\u001b[0;31mUnicodeDecodeError\u001b[0m: 'utf-8' codec can't decode byte 0xe3 in position 0: unexpected end of data"
     ]
    }
   ],
   "source": [
    "decode_utf8_bytes_to_str_wrong(\"こ\".encode(\"utf-8\"))"
   ]
  },
  {
   "cell_type": "markdown",
   "id": "36a4dedc",
   "metadata": {},
   "source": [
    "**Ans:** UTF-8 encode each character to 1-4 bytes. A character such as 'こ', is represented with more than 1 bytes. The current method incorrectly decode byte by byte, rather than interpreting full multi-byte sequence as single character."
   ]
  },
  {
   "cell_type": "markdown",
   "id": "41293aac",
   "metadata": {},
   "source": [
    "(c) Give a two byte sequence that does not decode to any Unicode character(s)"
   ]
  },
  {
   "cell_type": "markdown",
   "id": "cf52aea9",
   "metadata": {},
   "source": [
    "**Ans:** `1100 1100 0000 0000`  \n",
    "In UTF-8, the first byte(leading byte) tells how many byte a character needed.  \n",
    "0xxx xxxx: 1 byte (ASCII)  \n",
    "110x xxxx: 2 bytes  \n",
    "1110 xxxx: 3 bytes  \n",
    "1111 xxxx: 4 bytes  \n",
    "\n",
    "For the subsequent bytes of the same character, it must have the format of `10xx xxxx` to avoid ambiguity between leading and continuation bytes.\n"
   ]
  }
 ],
 "metadata": {
  "kernelspec": {
   "display_name": "pytorch",
   "language": "python",
   "name": "python3"
  },
  "language_info": {
   "codemirror_mode": {
    "name": "ipython",
    "version": 3
   },
   "file_extension": ".py",
   "mimetype": "text/x-python",
   "name": "python",
   "nbconvert_exporter": "python",
   "pygments_lexer": "ipython3",
   "version": "3.10.0"
  }
 },
 "nbformat": 4,
 "nbformat_minor": 5
}
