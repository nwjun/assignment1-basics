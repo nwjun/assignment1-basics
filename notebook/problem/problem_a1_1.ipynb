{
 "cells": [
  {
   "cell_type": "markdown",
   "id": "69c36b24",
   "metadata": {
    "vscode": {
     "languageId": "plaintext"
    }
   },
   "source": [
    "## Problem (unicode1): Understanding Unicode (1 point)"
   ]
  },
  {
   "cell_type": "markdown",
   "id": "bf6e3247",
   "metadata": {},
   "source": [
    "(a) What Unicode character does chr(0) return?"
   ]
  },
  {
   "cell_type": "code",
   "execution_count": 1,
   "id": "1eb9bedc",
   "metadata": {},
   "outputs": [
    {
     "data": {
      "text/plain": [
       "'\\x00'"
      ]
     },
     "execution_count": 1,
     "metadata": {},
     "output_type": "execute_result"
    }
   ],
   "source": [
    "chr(0)"
   ]
  },
  {
   "cell_type": "markdown",
   "id": "87e1534f",
   "metadata": {},
   "source": [
    "**Ans:** `null` character"
   ]
  },
  {
   "cell_type": "markdown",
   "id": "5c88cf2e",
   "metadata": {},
   "source": [
    "(b) How does this character’s string representation `(__repr__())` differ from its printed representation?"
   ]
  },
  {
   "cell_type": "code",
   "execution_count": 2,
   "id": "f356619f",
   "metadata": {},
   "outputs": [
    {
     "name": "stdout",
     "output_type": "stream",
     "text": [
      "\u0000\n"
     ]
    },
    {
     "data": {
      "text/plain": [
       "\"'\\\\x00'\""
      ]
     },
     "execution_count": 2,
     "metadata": {},
     "output_type": "execute_result"
    }
   ],
   "source": [
    "print(chr(0))\n",
    "chr(0).__repr__()"
   ]
  },
  {
   "cell_type": "markdown",
   "id": "a8748027",
   "metadata": {},
   "source": [
    "**Ans:** `__repr__()` shows `\\\\x00` but the printed representation is nothing."
   ]
  },
  {
   "cell_type": "markdown",
   "id": "d5dad65a",
   "metadata": {},
   "source": [
    "(c) What happens when this character occurs in text? It may be helpful to play around with the\n",
    "following in your Python interpreter and see if it matches your expectations:\n",
    "\n",
    "```\n",
    ">>> chr(0)\n",
    ">>> print(chr(0))\n",
    ">>> \"this is a test\" + chr(0) + \"string\"\n",
    ">>> print(\"this is a test\" + chr(0) + \"string\")\n",
    "```"
   ]
  },
  {
   "cell_type": "code",
   "execution_count": 3,
   "id": "1492349b",
   "metadata": {},
   "outputs": [
    {
     "data": {
      "text/plain": [
       "'this is a test\\x00string'"
      ]
     },
     "execution_count": 3,
     "metadata": {},
     "output_type": "execute_result"
    }
   ],
   "source": [
    "\"this is a test\"+chr(0)+\"string\""
   ]
  },
  {
   "cell_type": "code",
   "execution_count": 4,
   "id": "61e89c2d",
   "metadata": {},
   "outputs": [
    {
     "name": "stdout",
     "output_type": "stream",
     "text": [
      "this is a test\u0000string\n"
     ]
    }
   ],
   "source": [
    "print(\"this is a test\"+chr(0)+\"string\")"
   ]
  },
  {
   "cell_type": "markdown",
   "id": "3fc2c10c",
   "metadata": {},
   "source": [
    "**Ans:** When occuring in text, it represents null."
   ]
  }
 ],
 "metadata": {
  "kernelspec": {
   "display_name": "cs336-basics",
   "language": "python",
   "name": "python3"
  },
  "language_info": {
   "codemirror_mode": {
    "name": "ipython",
    "version": 3
   },
   "file_extension": ".py",
   "mimetype": "text/x-python",
   "name": "python",
   "nbconvert_exporter": "python",
   "pygments_lexer": "ipython3",
   "version": "3.11.5"
  }
 },
 "nbformat": 4,
 "nbformat_minor": 5
}
